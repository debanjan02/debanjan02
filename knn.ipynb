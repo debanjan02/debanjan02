{
 "cells": [
  {
   "cell_type": "code",
   "execution_count": 1,
   "metadata": {},
   "outputs": [],
   "source": [
    "import numpy as np\n",
    "import matplotlib.pyplot as plt\n",
    "import pandas as pd\n",
    "import seaborn as sns\n",
    "%matplotlib inline"
   ]
  },
  {
   "cell_type": "code",
   "execution_count": 14,
   "metadata": {},
   "outputs": [],
   "source": [
    "class KNearestNeighbors:\n",
    "    def __init__(self, n_neighbors=5):\n",
    "        self.n_neighbors = n_neighbors\n",
    "        self.x = np.array([])\n",
    "        self.y = np.array([])\n",
    "        \n",
    "    def fit(self, x, y):\n",
    "        self.x=x\n",
    "        self.y=y\n",
    "        \n",
    "    def predict(self, p):\n",
    "        d = self.dist(p,self.x)\n",
    "        d1={}\n",
    "        neighbors=[]\n",
    "        for i in range(len(d)):\n",
    "            d1[i] = d[i]\n",
    "        s = [(k, d1[k]) for k in sorted(d1, key=d1.get)]\n",
    "        for (k, v) in s:\n",
    "            neighbors.append(k)\n",
    "        #print(neighbors)\n",
    "        labels = []\n",
    "        for i in range(self.n_neighbors):\n",
    "            labels.append(self.y[neighbors[i]])\n",
    "            #print(y[neighbors[i]])\n",
    "        #print(labels)\n",
    "        return np.array(labels).mean().round()\n",
    "        \n",
    "    def dist(self, p1, p):\n",
    "        d=np.array([])\n",
    "        for i in range(len(p)):\n",
    "            d = np.append(d,np.sqrt(((p1-p[i])**2).sum()))\n",
    "        return d"
   ]
  },
  {
   "cell_type": "code",
   "execution_count": 2,
   "metadata": {},
   "outputs": [],
   "source": [
    "from sklearn.datasets import load_iris\n",
    "iris = load_iris()\n",
    "x = iris.data\n",
    "y = iris.target"
   ]
  },
  {
   "cell_type": "code",
   "execution_count": 3,
   "metadata": {},
   "outputs": [
    {
     "name": "stderr",
     "output_type": "stream",
     "text": [
      "c:\\python34\\lib\\site-packages\\sklearn\\cross_validation.py:41: DeprecationWarning: This module was deprecated in version 0.18 in favor of the model_selection module into which all the refactored classes and functions are moved. Also note that the interface of the new CV iterators are different from that of this module. This module will be removed in 0.20.\n",
      "  \"This module will be removed in 0.20.\", DeprecationWarning)\n"
     ]
    }
   ],
   "source": [
    "from sklearn.cross_validation import train_test_split\n",
    "X_train, X_test, y_train, y_test = train_test_split(x,y,test_size = 0.3)"
   ]
  },
  {
   "cell_type": "code",
   "execution_count": 19,
   "metadata": {},
   "outputs": [],
   "source": [
    "knn = KNearestNeighbors(n_neighbors=4)\n",
    "knn.fit(X_train, y_train)\n",
    "y_pred = []\n",
    "for i in X_test:\n",
    "    y_pred.append(knn.predict(i))\n",
    "#y_pred"
   ]
  },
  {
   "cell_type": "code",
   "execution_count": 20,
   "metadata": {},
   "outputs": [
    {
     "name": "stdout",
     "output_type": "stream",
     "text": [
      "             precision    recall  f1-score   support\n",
      "\n",
      "          0       1.00      1.00      1.00        13\n",
      "          1       1.00      0.89      0.94        19\n",
      "          2       0.87      1.00      0.93        13\n",
      "\n",
      "avg / total       0.96      0.96      0.96        45\n",
      "\n",
      "[[13  0  0]\n",
      " [ 0 17  2]\n",
      " [ 0  0 13]]\n"
     ]
    }
   ],
   "source": [
    "from sklearn.metrics import classification_report, confusion_matrix\n",
    "cl = classification_report(y_test,np.array(y_pred))\n",
    "cm = confusion_matrix(y_test,np.array(y_pred))\n",
    "print(cl)\n",
    "print(cm)"
   ]
  }
 ],
 "metadata": {
  "kernelspec": {
   "display_name": "Python 3",
   "language": "python",
   "name": "python3"
  },
  "language_info": {
   "codemirror_mode": {
    "name": "ipython",
    "version": 3
   },
   "file_extension": ".py",
   "mimetype": "text/x-python",
   "name": "python",
   "nbconvert_exporter": "python",
   "pygments_lexer": "ipython3",
   "version": "3.4.4"
  }
 },
 "nbformat": 4,
 "nbformat_minor": 2
}
